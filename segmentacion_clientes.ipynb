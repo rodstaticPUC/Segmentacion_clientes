{
 "cells": [
  {
   "cell_type": "markdown",
   "id": "7a088219-5a30-4a5e-9364-7f66d8d657a0",
   "metadata": {},
   "source": [
    "## **Segmentacion de Clientes**"
   ]
  },
  {
   "cell_type": "markdown",
   "id": "c1271c27-5298-4de1-aabe-fa9365535d7c",
   "metadata": {},
   "source": [
    "El conjunto de datos contiene transacciones desde el 1 de diciembre de 2010 hasta el 9 de diciembre de 2011 para un negocio minorista online con sede en UK.\n",
    "Cada fila representa la transacción que ocurre.\n",
    "\n",
    "Incluye el nombre del producto, la cantidad, el precio y otras columnas que representan la identificación.\n",
    "\n",
    "Para la segmentación de clientes se utilizará **K-means**.\n",
    "\n",
    "_\"El algoritmo k-means es un algoritmo de optimización cuyo objetivo es minimizar la suma de distancias cuadráticas de cada observación al centroide de su clúster.\"_\n",
    "\n",
    "\n",
    "\n",
    "- Definición\n",
    "\n",
    "El algoritmo k-means es un método de agrupamiento que divide un conjunto de **n** observaciones en **k** grupos distintos gracias a valores medios. Pertenece al ámbito de los algoritmos no supervisados, ya que las observaciones no cuentan con una etiqueta que nos diga de qué grupo es cada dato.\n",
    "\n",
    "El agrupamiento de las **n** observaciones en los **k** grupos distintos se realiza minimizando la suma de distancias entre cada observación y el centroide de su grupo. La distancia más común es la distancia euclídea.\n",
    "\n",
    "**Funcionamiento de K-means**\n",
    "\n",
    "Tres pasos:\n",
    "- 1: **Inicialización**: una vez escogido **k** (número de grupos), se establecen los centroides en el espacio de los datos (asignando los k puntos aleatoriamente).\n",
    "\n",
    "- 2: **Asignación de las observaciones a los centroides**: cada observación es asignada al centroide más cercano a ella usando la medida de distancia que se determine. \n",
    "\n",
    "- 3: **Actualización de los centroides**: se actualiza la posición de los centroides de cada grupo tomando como posición la media de la localización de las observaciones de dicho grupo.\n",
    "\n",
    "\n",
    "Se repiten los pasos 2 y 3 hasta que los centroides se quedan fijos, o se mueven por debajo de una distancia umbral fijada. Este umbral esta determinado por la cantidad de iteraciones y de acuerdo a la distancia utilizada (euclidiana, Manhattan, Correlación de Pearson o Correlación de Coseno).\n",
    "\n",
    "\n",
    "\n"
   ]
  },
  {
   "cell_type": "code",
   "execution_count": 1,
   "id": "fe4889e7-88ea-4583-9fbc-1d0b87d01cc5",
   "metadata": {},
   "outputs": [],
   "source": [
    "# Importacion de librerias\n",
    "import pandas as pd\n",
    "import matplotlib.pyplot as plt\n",
    "import numpy as np\n",
    "import seaborn as sns\n",
    "from sklearn.preprocessing import StandardScaler\n",
    "from sklearn.cluster import KMeans\n",
    "from scipy import stats\n",
    "# warning\n",
    "import warnings\n",
    "warnings.simplefilter(action='ignore', category=FutureWarning)"
   ]
  },
  {
   "cell_type": "code",
   "execution_count": 3,
   "id": "2fe9cca4-7101-4829-8c71-538e6ba2e37a",
   "metadata": {},
   "outputs": [],
   "source": [
    "df = pd.read_excel('df_retail.xlsx')"
   ]
  },
  {
   "cell_type": "code",
   "execution_count": 4,
   "id": "6ec0b9ee-019e-44d2-b884-3e8ac5983602",
   "metadata": {},
   "outputs": [
    {
     "name": "stdout",
     "output_type": "stream",
     "text": [
      "(406829, 8)\n"
     ]
    },
    {
     "data": {
      "text/html": [
       "<div>\n",
       "<style scoped>\n",
       "    .dataframe tbody tr th:only-of-type {\n",
       "        vertical-align: middle;\n",
       "    }\n",
       "\n",
       "    .dataframe tbody tr th {\n",
       "        vertical-align: top;\n",
       "    }\n",
       "\n",
       "    .dataframe thead th {\n",
       "        text-align: right;\n",
       "    }\n",
       "</style>\n",
       "<table border=\"1\" class=\"dataframe\">\n",
       "  <thead>\n",
       "    <tr style=\"text-align: right;\">\n",
       "      <th></th>\n",
       "      <th>InvoiceNo</th>\n",
       "      <th>StockCode</th>\n",
       "      <th>Description</th>\n",
       "      <th>Quantity</th>\n",
       "      <th>InvoiceDate</th>\n",
       "      <th>UnitPrice</th>\n",
       "      <th>CustomerID</th>\n",
       "      <th>Country</th>\n",
       "    </tr>\n",
       "  </thead>\n",
       "  <tbody>\n",
       "    <tr>\n",
       "      <th>0</th>\n",
       "      <td>536365</td>\n",
       "      <td>85123A</td>\n",
       "      <td>WHITE HANGING HEART T-LIGHT HOLDER</td>\n",
       "      <td>6</td>\n",
       "      <td>2010-12-01 08:26:00</td>\n",
       "      <td>2.55</td>\n",
       "      <td>17850.0</td>\n",
       "      <td>United Kingdom</td>\n",
       "    </tr>\n",
       "    <tr>\n",
       "      <th>1</th>\n",
       "      <td>536365</td>\n",
       "      <td>71053</td>\n",
       "      <td>WHITE METAL LANTERN</td>\n",
       "      <td>6</td>\n",
       "      <td>2010-12-01 08:26:00</td>\n",
       "      <td>3.39</td>\n",
       "      <td>17850.0</td>\n",
       "      <td>United Kingdom</td>\n",
       "    </tr>\n",
       "    <tr>\n",
       "      <th>2</th>\n",
       "      <td>536365</td>\n",
       "      <td>84406B</td>\n",
       "      <td>CREAM CUPID HEARTS COAT HANGER</td>\n",
       "      <td>8</td>\n",
       "      <td>2010-12-01 08:26:00</td>\n",
       "      <td>2.75</td>\n",
       "      <td>17850.0</td>\n",
       "      <td>United Kingdom</td>\n",
       "    </tr>\n",
       "    <tr>\n",
       "      <th>3</th>\n",
       "      <td>536365</td>\n",
       "      <td>84029G</td>\n",
       "      <td>KNITTED UNION FLAG HOT WATER BOTTLE</td>\n",
       "      <td>6</td>\n",
       "      <td>2010-12-01 08:26:00</td>\n",
       "      <td>3.39</td>\n",
       "      <td>17850.0</td>\n",
       "      <td>United Kingdom</td>\n",
       "    </tr>\n",
       "    <tr>\n",
       "      <th>4</th>\n",
       "      <td>536365</td>\n",
       "      <td>84029E</td>\n",
       "      <td>RED WOOLLY HOTTIE WHITE HEART.</td>\n",
       "      <td>6</td>\n",
       "      <td>2010-12-01 08:26:00</td>\n",
       "      <td>3.39</td>\n",
       "      <td>17850.0</td>\n",
       "      <td>United Kingdom</td>\n",
       "    </tr>\n",
       "  </tbody>\n",
       "</table>\n",
       "</div>"
      ],
      "text/plain": [
       "  InvoiceNo StockCode                          Description  Quantity  \\\n",
       "0    536365    85123A   WHITE HANGING HEART T-LIGHT HOLDER         6   \n",
       "1    536365     71053                  WHITE METAL LANTERN         6   \n",
       "2    536365    84406B       CREAM CUPID HEARTS COAT HANGER         8   \n",
       "3    536365    84029G  KNITTED UNION FLAG HOT WATER BOTTLE         6   \n",
       "4    536365    84029E       RED WOOLLY HOTTIE WHITE HEART.         6   \n",
       "\n",
       "          InvoiceDate  UnitPrice  CustomerID         Country  \n",
       "0 2010-12-01 08:26:00       2.55     17850.0  United Kingdom  \n",
       "1 2010-12-01 08:26:00       3.39     17850.0  United Kingdom  \n",
       "2 2010-12-01 08:26:00       2.75     17850.0  United Kingdom  \n",
       "3 2010-12-01 08:26:00       3.39     17850.0  United Kingdom  \n",
       "4 2010-12-01 08:26:00       3.39     17850.0  United Kingdom  "
      ]
     },
     "execution_count": 4,
     "metadata": {},
     "output_type": "execute_result"
    }
   ],
   "source": [
    "# eliminamos los NA\n",
    "df = df[df['CustomerID'].notna()]\n",
    "\n",
    "# dimension de la df\n",
    "print(df.shape)\n",
    "\n",
    "df.head(5)"
   ]
  },
  {
   "cell_type": "code",
   "execution_count": 5,
   "id": "3986e8c5-f96f-4241-99e5-9af436aef4d7",
   "metadata": {},
   "outputs": [
    {
     "data": {
      "text/plain": [
       "InvoiceNo              object\n",
       "StockCode              object\n",
       "Description            object\n",
       "Quantity                int64\n",
       "InvoiceDate    datetime64[ns]\n",
       "UnitPrice             float64\n",
       "CustomerID            float64\n",
       "Country                object\n",
       "dtype: object"
      ]
     },
     "execution_count": 5,
     "metadata": {},
     "output_type": "execute_result"
    }
   ],
   "source": [
    "#formato de los datos\n",
    "df.dtypes"
   ]
  },
  {
   "cell_type": "markdown",
   "id": "64463616-6df0-4c6a-84df-f74cf799d89a",
   "metadata": {},
   "source": [
    "**Tabla RFM**\n",
    "\n",
    "Para segmentar a los clientes, hay algunas métricas que podemos usar.\n",
    "\n",
    "- **R**: cuándo el cliente compró el producto por última vez.\n",
    "- **F**: con qué frecuencia compra el producto\n",
    "- **M**: cuánto paga el cliente por el producto. \n",
    "\n",
    "Para obtener el número de días para la columna **R**, podemos restar la fecha de la instantánea con la fecha en la que se produjo la transacción.\n",
    "\n",
    "Para la frecuencia **F**, podemos contar la cantidad de transacciones de cada cliente.\n",
    "\n",
    "Por último, para crear la columna de valor monetario **M**, podemos sumar todas las transacciones de cada cliente.\n"
   ]
  },
  {
   "cell_type": "code",
   "execution_count": 6,
   "id": "fa27091f-f948-439e-862c-7ef4a57d946b",
   "metadata": {},
   "outputs": [],
   "source": [
    "# para mostrar solo la fecha\n",
    "from datetime import datetime\n",
    "df[\"InvoiceDate\"] = df[\"InvoiceDate\"].dt.date\n",
    "\n",
    "#columna Suma total\n",
    "df[\"TotalSum\"] = df[\"Quantity\"] * df[\"UnitPrice\"]\n",
    "\n",
    "# variable fecha que registre la actualidad\n",
    "import datetime\n",
    "snapshot_date = max(df.InvoiceDate) + datetime.timedelta(days=1)\n",
    "\n",
    "# Datos agregados por cada cliente\n",
    "customers = df.groupby(['CustomerID']).agg({'InvoiceDate': lambda x: (snapshot_date - x.max()).days,\n",
    "                                            'InvoiceNo': 'count',\n",
    "                                            'TotalSum': 'sum'})\n",
    "\n",
    "# renombramos columnas\n",
    "customers.rename(columns = {'InvoiceDate': 'Recencia',\n",
    "                            'InvoiceNo': 'Frecuencia',\n",
    "                            'TotalSum': 'Valor'}, inplace=True)"
   ]
  },
  {
   "cell_type": "code",
   "execution_count": 7,
   "id": "4f87c4db-9fd7-4e31-afd8-fe84c6c0dec9",
   "metadata": {},
   "outputs": [
    {
     "data": {
      "text/html": [
       "<div>\n",
       "<style scoped>\n",
       "    .dataframe tbody tr th:only-of-type {\n",
       "        vertical-align: middle;\n",
       "    }\n",
       "\n",
       "    .dataframe tbody tr th {\n",
       "        vertical-align: top;\n",
       "    }\n",
       "\n",
       "    .dataframe thead th {\n",
       "        text-align: right;\n",
       "    }\n",
       "</style>\n",
       "<table border=\"1\" class=\"dataframe\">\n",
       "  <thead>\n",
       "    <tr style=\"text-align: right;\">\n",
       "      <th></th>\n",
       "      <th>Recencia</th>\n",
       "      <th>Frecuencia</th>\n",
       "      <th>Valor</th>\n",
       "    </tr>\n",
       "    <tr>\n",
       "      <th>CustomerID</th>\n",
       "      <th></th>\n",
       "      <th></th>\n",
       "      <th></th>\n",
       "    </tr>\n",
       "  </thead>\n",
       "  <tbody>\n",
       "    <tr>\n",
       "      <th>12346.0</th>\n",
       "      <td>326</td>\n",
       "      <td>2</td>\n",
       "      <td>0.00</td>\n",
       "    </tr>\n",
       "    <tr>\n",
       "      <th>12347.0</th>\n",
       "      <td>3</td>\n",
       "      <td>182</td>\n",
       "      <td>4310.00</td>\n",
       "    </tr>\n",
       "    <tr>\n",
       "      <th>12348.0</th>\n",
       "      <td>76</td>\n",
       "      <td>31</td>\n",
       "      <td>1797.24</td>\n",
       "    </tr>\n",
       "    <tr>\n",
       "      <th>12349.0</th>\n",
       "      <td>19</td>\n",
       "      <td>73</td>\n",
       "      <td>1757.55</td>\n",
       "    </tr>\n",
       "    <tr>\n",
       "      <th>12350.0</th>\n",
       "      <td>311</td>\n",
       "      <td>17</td>\n",
       "      <td>334.40</td>\n",
       "    </tr>\n",
       "  </tbody>\n",
       "</table>\n",
       "</div>"
      ],
      "text/plain": [
       "            Recencia  Frecuencia    Valor\n",
       "CustomerID                               \n",
       "12346.0          326           2     0.00\n",
       "12347.0            3         182  4310.00\n",
       "12348.0           76          31  1797.24\n",
       "12349.0           19          73  1757.55\n",
       "12350.0          311          17   334.40"
      ]
     },
     "execution_count": 7,
     "metadata": {},
     "output_type": "execute_result"
    }
   ],
   "source": [
    "customers.head(5)"
   ]
  },
  {
   "cell_type": "markdown",
   "id": "06dd3b88-1851-40ea-898e-c67a395c56c9",
   "metadata": {},
   "source": [
    "**Asimetría y Escalado**\n",
    "\n",
    "Tenemos que asegurarnos de que los datos cumplan con estos supuestos.\n",
    "\n",
    "_\"Los datos deben cumplir supuestos donde las variables no están sesgadas y tienen la misma media y varianza.\"_\n",
    "\n",
    "\n",
    "- **Asimetría**\n",
    "\n",
    "Hay algunos métodos que podemos usar para manejar la asimetría:\n",
    "- Log Transformation\n",
    "- Square Root Transformation\n",
    "- Box-Cox Transformation\n",
    "\n",
    "Nota: Podemos usar la transformación si la variable solo tiene valores positivos.\n",
    "\n",
    "Se analizará la simetria de cada variable y se realizará una transformación para observar los cambios."
   ]
  },
  {
   "cell_type": "code",
   "execution_count": 8,
   "id": "010569e2-39e3-4a27-99b9-117d68d526ca",
   "metadata": {},
   "outputs": [
    {
     "data": {
      "image/png": "[encoded data removed]",
      "text/plain": [
       "<Figure size 864x720 with 3 Axes>"
      ]
     },
     "metadata": {
      "needs_background": "light"
     },
     "output_type": "display_data"
    }
   ],
   "source": [
    "fig, axes = plt.subplots(nrows=1, ncols=3, figsize=(12,10))\n",
    "for i, column in enumerate(customers.columns, 1):\n",
    "    plt.subplot(3,3,i)\n",
    "    sns.distplot(customers[column])\n",
    "plt.show();"
   ]
  },
  {
   "cell_type": "markdown",
   "id": "a794e443-baa2-4f79-b707-1152ab8d7ff6",
   "metadata": {},
   "source": [
    "\n",
    "**Transformaciones**\n",
    "\n",
    "- Log\n",
    "- sqrt\n",
    "- boxcox\n",
    "\n"
   ]
  },
  {
   "cell_type": "code",
   "execution_count": 9,
   "id": "da6b99da-7bb2-4f80-ae48-5819fcdc26dc",
   "metadata": {},
   "outputs": [],
   "source": [
    "# analisis de asimetria.\n",
    "\n",
    "# Por cada variable se establece la transformacion boxcox, log, sqrt y sin transformacion.\n",
    "def analyze_skewness(x):\n",
    "    fig, ax = plt.subplots(2, 2, figsize=(5,5))\n",
    "    sns.distplot(customers[x], ax=ax[0,0])\n",
    "    sns.distplot(np.log(customers[x]), ax=ax[0,1])\n",
    "    sns.distplot(np.sqrt(customers[x]), ax=ax[1,0])\n",
    "    sns.distplot(stats.boxcox(customers[x])[0], ax=ax[1,1])\n",
    "    plt.tight_layout()\n",
    "    plt.show()\n",
    "    \n",
    "    print(customers[x].skew().round(2))\n",
    "    print(np.log(customers[x]).skew().round(2))\n",
    "    print(np.sqrt(customers[x]).skew().round(2))\n",
    "    print(pd.Series(stats.boxcox(customers[x])[0]).skew().round(2))"
   ]
  },
  {
   "cell_type": "code",
   "execution_count": 10,
   "id": "21c3bcd3-e7dc-4f8d-a4b3-44e6b10899c6",
   "metadata": {},
   "outputs": [
    {
     "data": {
      "image/png": "[encoded data removed]",
      "text/plain": [
       "<Figure size 360x360 with 4 Axes>"
      ]
     },
     "metadata": {
      "needs_background": "light"
     },
     "output_type": "display_data"
    },
    {
     "name": "stdout",
     "output_type": "stream",
     "text": [
      "1.25\n",
      "-0.45\n",
      "0.6\n",
      "-0.07\n"
     ]
    }
   ],
   "source": [
    "# Análisis Recencia\n",
    "analyze_skewness('Recencia')\n",
    "\n",
    "# se observa que la mejor transformacion es por medio de Boxcox (mejor asimetría)."
   ]
  },
  {
   "cell_type": "code",
   "execution_count": 132,
   "id": "50515ffe-0aed-4825-a164-0235cff5e468",
   "metadata": {},
   "outputs": [
    {
     "data": {
      "image/png": "[encoded data removed]",
      "text/plain": [
       "<Figure size 360x360 with 4 Axes>"
      ]
     },
     "metadata": {
      "needs_background": "light"
     },
     "output_type": "display_data"
    },
    {
     "name": "stdout",
     "output_type": "stream",
     "text": [
      "18.15\n",
      "-0.24\n",
      "3.2\n",
      "0.0\n"
     ]
    }
   ],
   "source": [
    "#Frecuencia\n",
    "analyze_skewness('Frecuencia')\n",
    "# se observa que la mejor transformacion es por medio de Boxcox"
   ]
  },
  {
   "cell_type": "code",
   "execution_count": 135,
   "id": "c144ca05-6b2e-4f6d-a735-79eb680f4e0b",
   "metadata": {},
   "outputs": [
    {
     "data": {
      "image/png": "[encoded data removed]",
      "text/plain": [
       "<Figure size 720x216 with 2 Axes>"
      ]
     },
     "metadata": {
      "needs_background": "light"
     },
     "output_type": "display_data"
    },
    {
     "name": "stdout",
     "output_type": "stream",
     "text": [
      "21.71\n",
      "2.29\n"
     ]
    }
   ],
   "source": [
    "fig, ax = plt.subplots(1, 2, figsize=(10,3))\n",
    "sns.distplot(customers['Valor'], ax=ax[0])\n",
    "sns.distplot(np.cbrt(customers['Valor']), ax=ax[1])\n",
    "plt.show()\n",
    "print(customers['Valor'].skew().round(2))\n",
    "print(np.cbrt(customers['Valor']).skew().round(2))"
   ]
  },
  {
   "cell_type": "code",
   "execution_count": 136,
   "id": "d3915d09-7b23-4b34-b347-02a804dc1d51",
   "metadata": {},
   "outputs": [
    {
     "data": {
      "text/plain": [
       "array([ 0.        , 16.27392924, 12.15818345, ...,  5.61043971,\n",
       "       12.79537593, 12.24781024])"
      ]
     },
     "execution_count": 136,
     "metadata": {},
     "output_type": "execute_result"
    }
   ],
   "source": [
    "pd.Series(np.cbrt(customers['Valor'])).values"
   ]
  },
  {
   "cell_type": "markdown",
   "id": "99b3c434-c5a4-490c-8682-90d3dcbf713e",
   "metadata": {},
   "source": [
    "**Transformación Boxcox**\n",
    "\n",
    "Las transformaciones de Box y Cox son una familia de transformaciones potenciales usadas en estadística para corregir sesgos en la distribución de errores, para corregir **varianzas desiguales** y principalmente para **corregir la no linealidad en la relación**. Por tanto, es una transformación de variables dependientes no normales en una forma normal . \n",
    "\n",
    "La normalidad es una suposición importante para muchas técnicas estadísticas; si sus datos no son normales, aplicar un Box-Cox significa se puede ejecutar una mayor cantidad de pruebas. \n",
    "\n"
   ]
  },
  {
   "cell_type": "code",
   "execution_count": 11,
   "id": "eff1a9e5-9b14-4ed0-9cf8-dc9372fd81f9",
   "metadata": {},
   "outputs": [
    {
     "data": {
      "text/html": [
       "<div>\n",
       "<style scoped>\n",
       "    .dataframe tbody tr th:only-of-type {\n",
       "        vertical-align: middle;\n",
       "    }\n",
       "\n",
       "    .dataframe tbody tr th {\n",
       "        vertical-align: top;\n",
       "    }\n",
       "\n",
       "    .dataframe thead th {\n",
       "        text-align: right;\n",
       "    }\n",
       "</style>\n",
       "<table border=\"1\" class=\"dataframe\">\n",
       "  <thead>\n",
       "    <tr style=\"text-align: right;\">\n",
       "      <th></th>\n",
       "      <th>Recencia</th>\n",
       "      <th>Frecuencia</th>\n",
       "      <th>Valor</th>\n",
       "    </tr>\n",
       "  </thead>\n",
       "  <tbody>\n",
       "    <tr>\n",
       "      <th>4367</th>\n",
       "      <td>8.932980</td>\n",
       "      <td>2.460908</td>\n",
       "      <td>5.652483</td>\n",
       "    </tr>\n",
       "    <tr>\n",
       "      <th>4368</th>\n",
       "      <td>7.949051</td>\n",
       "      <td>2.058202</td>\n",
       "      <td>4.323541</td>\n",
       "    </tr>\n",
       "    <tr>\n",
       "      <th>4369</th>\n",
       "      <td>2.449000</td>\n",
       "      <td>2.762414</td>\n",
       "      <td>5.610440</td>\n",
       "    </tr>\n",
       "    <tr>\n",
       "      <th>4370</th>\n",
       "      <td>1.544575</td>\n",
       "      <td>8.057611</td>\n",
       "      <td>12.795376</td>\n",
       "    </tr>\n",
       "    <tr>\n",
       "      <th>4371</th>\n",
       "      <td>5.087438</td>\n",
       "      <td>4.808490</td>\n",
       "      <td>12.247810</td>\n",
       "    </tr>\n",
       "  </tbody>\n",
       "</table>\n",
       "</div>"
      ],
      "text/plain": [
       "      Recencia  Frecuencia      Valor\n",
       "4367  8.932980    2.460908   5.652483\n",
       "4368  7.949051    2.058202   4.323541\n",
       "4369  2.449000    2.762414   5.610440\n",
       "4370  1.544575    8.057611  12.795376\n",
       "4371  5.087438    4.808490  12.247810"
      ]
     },
     "execution_count": 11,
     "metadata": {},
     "output_type": "execute_result"
    }
   ],
   "source": [
    "# Utilizacion de la transformacion de Box-Cox\n",
    "\n",
    "from scipy import stats\n",
    "customers_fix = pd.DataFrame()\n",
    "customers_fix[\"Recencia\"] = stats.boxcox(customers['Recencia'])[0]\n",
    "customers_fix[\"Frecuencia\"] = stats.boxcox(customers['Frecuencia'])[0]\n",
    "customers_fix[\"Valor\"] = pd.Series(np.cbrt(customers['Valor'])).values\n",
    "customers_fix.tail()"
   ]
  },
  {
   "cell_type": "code",
   "execution_count": 13,
   "id": "07ace030-5f09-41fb-bd5a-1f4b9b87222b",
   "metadata": {},
   "outputs": [
    {
     "data": {
      "text/html": [
       "<div>\n",
       "<style scoped>\n",
       "    .dataframe tbody tr th:only-of-type {\n",
       "        vertical-align: middle;\n",
       "    }\n",
       "\n",
       "    .dataframe tbody tr th {\n",
       "        vertical-align: top;\n",
       "    }\n",
       "\n",
       "    .dataframe thead th {\n",
       "        text-align: right;\n",
       "    }\n",
       "</style>\n",
       "<table border=\"1\" class=\"dataframe\">\n",
       "  <thead>\n",
       "    <tr style=\"text-align: right;\">\n",
       "      <th></th>\n",
       "      <th>Recencia</th>\n",
       "      <th>Frecuencia</th>\n",
       "      <th>Valor</th>\n",
       "    </tr>\n",
       "  </thead>\n",
       "  <tbody>\n",
       "    <tr>\n",
       "      <th>count</th>\n",
       "      <td>4372.000000</td>\n",
       "      <td>4372.000000</td>\n",
       "      <td>4372.000000</td>\n",
       "    </tr>\n",
       "    <tr>\n",
       "      <th>mean</th>\n",
       "      <td>5.365902</td>\n",
       "      <td>4.163558</td>\n",
       "      <td>9.624086</td>\n",
       "    </tr>\n",
       "    <tr>\n",
       "      <th>std</th>\n",
       "      <td>2.458295</td>\n",
       "      <td>1.647655</td>\n",
       "      <td>4.998417</td>\n",
       "    </tr>\n",
       "    <tr>\n",
       "      <th>min</th>\n",
       "      <td>0.000000</td>\n",
       "      <td>0.000000</td>\n",
       "      <td>-16.245725</td>\n",
       "    </tr>\n",
       "    <tr>\n",
       "      <th>25%</th>\n",
       "      <td>3.547952</td>\n",
       "      <td>3.075409</td>\n",
       "      <td>6.644590</td>\n",
       "    </tr>\n",
       "    <tr>\n",
       "      <th>50%</th>\n",
       "      <td>5.395110</td>\n",
       "      <td>4.166739</td>\n",
       "      <td>8.653831</td>\n",
       "    </tr>\n",
       "    <tr>\n",
       "      <th>75%</th>\n",
       "      <td>7.450548</td>\n",
       "      <td>5.293594</td>\n",
       "      <td>11.724572</td>\n",
       "    </tr>\n",
       "    <tr>\n",
       "      <th>max</th>\n",
       "      <td>9.651959</td>\n",
       "      <td>11.742237</td>\n",
       "      <td>65.381506</td>\n",
       "    </tr>\n",
       "  </tbody>\n",
       "</table>\n",
       "</div>"
      ],
      "text/plain": [
       "          Recencia   Frecuencia        Valor\n",
       "count  4372.000000  4372.000000  4372.000000\n",
       "mean      5.365902     4.163558     9.624086\n",
       "std       2.458295     1.647655     4.998417\n",
       "min       0.000000     0.000000   -16.245725\n",
       "25%       3.547952     3.075409     6.644590\n",
       "50%       5.395110     4.166739     8.653831\n",
       "75%       7.450548     5.293594    11.724572\n",
       "max       9.651959    11.742237    65.381506"
      ]
     },
     "execution_count": 13,
     "metadata": {},
     "output_type": "execute_result"
    }
   ],
   "source": [
    "customers_fix.describe()\n",
    "\n",
    "# se observa que las variables presentan distintos valores para la media y var."
   ]
  },
  {
   "cell_type": "markdown",
   "id": "72ca9290-c188-49a4-8a19-b94893692514",
   "metadata": {},
   "source": [
    "**Normalizacion**\n",
    "\n",
    "Cada variable no tiene la misma media y varianza, por tanto, tenemos que normalizarlo. \n",
    "\n",
    "Para normalizar, podemos usar el objeto StandardScaler de la biblioteca scikit-learn para hacerlo."
   ]
  },
  {
   "cell_type": "code",
   "execution_count": 15,
   "id": "67aabd26-5b02-4ba3-b802-4226dfc32695",
   "metadata": {},
   "outputs": [
    {
     "name": "stdout",
     "output_type": "stream",
     "text": [
      "[-0.  0. -0.]\n",
      "[1. 1. 1.]\n"
     ]
    }
   ],
   "source": [
    "# Normalizacion\n",
    "scaler = StandardScaler()\n",
    "scaler.fit(customers_fix)\n",
    "customers_normalized = scaler.transform(customers_fix)# debe tener mean=0 y var=1\n",
    "print(customers_normalized.mean(axis = 0).round(2)) # [0. -0. 0.]\n",
    "print(customers_normalized.std(axis = 0).round(2)) # [1. 1. 1.]"
   ]
  },
  {
   "cell_type": "code",
   "execution_count": 16,
   "id": "a2f55f93-579d-4917-9235-6051d3e02c05",
   "metadata": {},
   "outputs": [
    {
     "data": {
      "text/html": [
       "<div>\n",
       "<style scoped>\n",
       "    .dataframe tbody tr th:only-of-type {\n",
       "        vertical-align: middle;\n",
       "    }\n",
       "\n",
       "    .dataframe tbody tr th {\n",
       "        vertical-align: top;\n",
       "    }\n",
       "\n",
       "    .dataframe thead th {\n",
       "        text-align: right;\n",
       "    }\n",
       "</style>\n",
       "<table border=\"1\" class=\"dataframe\">\n",
       "  <thead>\n",
       "    <tr style=\"text-align: right;\">\n",
       "      <th></th>\n",
       "      <th>0</th>\n",
       "      <th>1</th>\n",
       "      <th>2</th>\n",
       "    </tr>\n",
       "  </thead>\n",
       "  <tbody>\n",
       "    <tr>\n",
       "      <th>0</th>\n",
       "      <td>1.606608</td>\n",
       "      <td>-2.098072</td>\n",
       "      <td>-1.925647</td>\n",
       "    </tr>\n",
       "    <tr>\n",
       "      <th>1</th>\n",
       "      <td>-1.696240</td>\n",
       "      <td>1.151346</td>\n",
       "      <td>1.330542</td>\n",
       "    </tr>\n",
       "    <tr>\n",
       "      <th>2</th>\n",
       "      <td>0.317615</td>\n",
       "      <td>-0.224316</td>\n",
       "      <td>0.507038</td>\n",
       "    </tr>\n",
       "    <tr>\n",
       "      <th>3</th>\n",
       "      <td>-0.669146</td>\n",
       "      <td>0.423978</td>\n",
       "      <td>0.488997</td>\n",
       "    </tr>\n",
       "    <tr>\n",
       "      <th>4</th>\n",
       "      <td>1.560253</td>\n",
       "      <td>-0.660498</td>\n",
       "      <td>-0.536848</td>\n",
       "    </tr>\n",
       "  </tbody>\n",
       "</table>\n",
       "</div>"
      ],
      "text/plain": [
       "          0         1         2\n",
       "0  1.606608 -2.098072 -1.925647\n",
       "1 -1.696240  1.151346  1.330542\n",
       "2  0.317615 -0.224316  0.507038\n",
       "3 -0.669146  0.423978  0.488997\n",
       "4  1.560253 -0.660498 -0.536848"
      ]
     },
     "execution_count": 16,
     "metadata": {},
     "output_type": "execute_result"
    }
   ],
   "source": [
    "pd.DataFrame(customers_normalized).head(5)"
   ]
  },
  {
   "cell_type": "code",
   "execution_count": 39,
   "id": "9932532a-ce0d-4d6b-83ed-93eb0444448e",
   "metadata": {},
   "outputs": [
    {
     "data": {
      "text/html": [
       "<div>\n",
       "<style scoped>\n",
       "    .dataframe tbody tr th:only-of-type {\n",
       "        vertical-align: middle;\n",
       "    }\n",
       "\n",
       "    .dataframe tbody tr th {\n",
       "        vertical-align: top;\n",
       "    }\n",
       "\n",
       "    .dataframe thead th {\n",
       "        text-align: right;\n",
       "    }\n",
       "</style>\n",
       "<table border=\"1\" class=\"dataframe\">\n",
       "  <thead>\n",
       "    <tr style=\"text-align: right;\">\n",
       "      <th></th>\n",
       "      <th>0</th>\n",
       "      <th>1</th>\n",
       "      <th>2</th>\n",
       "    </tr>\n",
       "  </thead>\n",
       "  <tbody>\n",
       "    <tr>\n",
       "      <th>count</th>\n",
       "      <td>4.372000e+03</td>\n",
       "      <td>4.372000e+03</td>\n",
       "      <td>4.372000e+03</td>\n",
       "    </tr>\n",
       "    <tr>\n",
       "      <th>mean</th>\n",
       "      <td>-5.651104e-17</td>\n",
       "      <td>7.487403e-17</td>\n",
       "      <td>-1.754467e-16</td>\n",
       "    </tr>\n",
       "    <tr>\n",
       "      <th>std</th>\n",
       "      <td>1.000114e+00</td>\n",
       "      <td>1.000114e+00</td>\n",
       "      <td>1.000114e+00</td>\n",
       "    </tr>\n",
       "    <tr>\n",
       "      <th>min</th>\n",
       "      <td>-2.183023e+00</td>\n",
       "      <td>-2.527249e+00</td>\n",
       "      <td>-5.176193e+00</td>\n",
       "    </tr>\n",
       "    <tr>\n",
       "      <th>25%</th>\n",
       "      <td>-7.396007e-01</td>\n",
       "      <td>-6.604983e-01</td>\n",
       "      <td>-5.961562e-01</td>\n",
       "    </tr>\n",
       "    <tr>\n",
       "      <th>50%</th>\n",
       "      <td>1.188276e-02</td>\n",
       "      <td>1.930865e-03</td>\n",
       "      <td>-1.941347e-01</td>\n",
       "    </tr>\n",
       "    <tr>\n",
       "      <th>75%</th>\n",
       "      <td>8.481018e-01</td>\n",
       "      <td>6.859230e-01</td>\n",
       "      <td>4.202781e-01</td>\n",
       "    </tr>\n",
       "    <tr>\n",
       "      <th>max</th>\n",
       "      <td>1.743707e+00</td>\n",
       "      <td>4.600201e+00</td>\n",
       "      <td>1.115629e+01</td>\n",
       "    </tr>\n",
       "  </tbody>\n",
       "</table>\n",
       "</div>"
      ],
      "text/plain": [
       "                  0             1             2\n",
       "count  4.372000e+03  4.372000e+03  4.372000e+03\n",
       "mean  -5.651104e-17  7.487403e-17 -1.754467e-16\n",
       "std    1.000114e+00  1.000114e+00  1.000114e+00\n",
       "min   -2.183023e+00 -2.527249e+00 -5.176193e+00\n",
       "25%   -7.396007e-01 -6.604983e-01 -5.961562e-01\n",
       "50%    1.188276e-02  1.930865e-03 -1.941347e-01\n",
       "75%    8.481018e-01  6.859230e-01  4.202781e-01\n",
       "max    1.743707e+00  4.600201e+00  1.115629e+01"
      ]
     },
     "execution_count": 39,
     "metadata": {},
     "output_type": "execute_result"
    }
   ],
   "source": [
    "pd.DataFrame(customers_normalized).describe()\n",
    "\n",
    "# podemos observar despues de la normalizacion otorga que la media = 0 y var = 1"
   ]
  },
  {
   "cell_type": "markdown",
   "id": "a411b4a6-1f0c-4bf4-986f-56f741090995",
   "metadata": {},
   "source": [
    "**Modelado**\n",
    "\n",
    "Inmediatamente después de preprocesar los datos, ahora podemos centrarnos en el modelado. Para hacer la segmentación de los datos, podemos usar el algoritmo **K-Means** para hacer esto.\n",
    "\n",
    "El algoritmo **K-Means** es un algoritmo de aprendizaje no supervisado que utiliza el principio geométrico para determinar qué grupo pertenece a los grupos.\n",
    "\n",
    "Al determinar cada centroide, calculamos la distancia a cada centroide. Cada dato pertenece a un centroide si tiene la menor distancia del otro. Se repite hasta que el próximo total de la distancia no tenga cambios significativos que antes.\n",
    "\n",
    "\n",
    "Para que nuestro agrupamiento alcance su máximo rendimiento, debemos determinar qué hiperparámetro se ajusta a los datos. Para determinar qué hiperparámetro (**busqueda del K**) es el mejor para nuestro modelo y datos, podemos usar el **método del codo** para decidir.\n",
    "\n",
    "\n",
    "\n",
    "**SSE**\n",
    "\n",
    "Método utilizado para comparar el ajuste de las líneas es calcular el SSE (suma de los cuadrados de los errores o desviaciones) para cada línea. Cuanto menor sea el SSE, mejor será el ajuste de la línea a los datos.\n"
   ]
  },
  {
   "cell_type": "markdown",
   "id": "e46e71a6-f30f-43db-8b0e-2f512d752ca9",
   "metadata": {},
   "source": [
    "**Método del Codo**\n",
    "\n",
    "El método del codo utiliza la distancia media de las observaciones a su centroide. Es decir, se fija en las distancias intra-cluster. Cuanto más grande es el número de clusters **k**, la varianza intra-cluster tiende a disminuir. Cuanto menor es la distancia intra-cluster mejor, ya que significa que los clústers son más compactos. \n",
    "\n",
    "El método del codo busca el valor **k** que satisfaga que un incremento de **k**, no mejore sustancialmente la distancia media intra-cluster.\n",
    "\n",
    "_Nota: El método del codo es a veces ambiguo, una alternativa es el **análisis de la silueta**, que es más objetivo que el método del codo._"
   ]
  },
  {
   "cell_type": "code",
   "execution_count": 38,
   "id": "a65aeeb9-697b-4101-977e-bd7ff46eadd3",
   "metadata": {},
   "outputs": [
    {
     "data": {
      "image/png": "[encoded data removed]",
      "text/plain": [
       "<Figure size 432x288 with 1 Axes>"
      ]
     },
     "metadata": {
      "needs_background": "light"
     },
     "output_type": "display_data"
    }
   ],
   "source": [
    "# Determinacion del K\n",
    "sse = {}\n",
    "for k in range(1, 11):\n",
    "    kmeans = KMeans(n_clusters=k, random_state=42)\n",
    "    kmeans.fit(customers_normalized)\n",
    "    sse[k] = kmeans.inertia_ # El k mas cercano al centroide, vía el método del codo\n",
    "plt.title('El Método del Codo')\n",
    "plt.xlabel('k')\n",
    "plt.ylabel('SSE')\n",
    "sns.pointplot(x=list(sse.keys()), y=list(sse.values()),color=\"red\")\n",
    "plt.show()"
   ]
  },
  {
   "cell_type": "markdown",
   "id": "225b7a12-b4cc-4ce2-8f2b-a9a4420a0ecc",
   "metadata": {},
   "source": [
    "**Interpretación**\n",
    "\n",
    "El eje x es el valor de k, y el eje y es el valor SSE de los datos. Tomaremos el mejor parámetro observando dónde el valor k tendrá una tendencia lineal en el siguiente k consecutivo.\n",
    "\n",
    "Según nuestra observación, el valor **k** de **3** es el mejor hiperparámetro para nuestro modelo porque el siguiente valor **k** tiende a tener una tendencia lineal. Por lo tanto, nuestro mejor modelo para los datos es **K-Means** con un número de grupos de **3**."
   ]
  },
  {
   "cell_type": "code",
   "execution_count": 19,
   "id": "53ae2e72-8a7d-4614-8a74-778bf0164c5d",
   "metadata": {},
   "outputs": [
    {
     "data": {
      "text/plain": [
       "(4372,)"
      ]
     },
     "execution_count": 19,
     "metadata": {},
     "output_type": "execute_result"
    }
   ],
   "source": [
    "# Modelado\n",
    "\n",
    "modelo = KMeans(n_clusters=3, random_state=42)\n",
    "modelo.fit(customers_normalized)\n",
    "modelo.labels_.shape"
   ]
  },
  {
   "cell_type": "code",
   "execution_count": 20,
   "id": "7419cc6d-3cd5-4c96-b9a4-6e1ac3e85510",
   "metadata": {},
   "outputs": [
    {
     "data": {
      "text/plain": [
       "(4372, 3)"
      ]
     },
     "execution_count": 20,
     "metadata": {},
     "output_type": "execute_result"
    }
   ],
   "source": [
    "customers.shape"
   ]
  },
  {
   "cell_type": "code",
   "execution_count": 21,
   "id": "b921e752-167b-40a6-97e0-b150365d0c0e",
   "metadata": {},
   "outputs": [
    {
     "name": "stdout",
     "output_type": "stream",
     "text": [
      "(4372, 4)\n"
     ]
    }
   ],
   "source": [
    "customers[\"Cluster\"] = modelo.labels_\n",
    "customers.head()\n",
    "print(customers.shape)"
   ]
  },
  {
   "cell_type": "markdown",
   "id": "2cfbfda0-ce28-48c4-8f99-b029b219cbeb",
   "metadata": {},
   "source": [
    "**Análisis de Cluster**"
   ]
  },
  {
   "cell_type": "code",
   "execution_count": 22,
   "id": "f0c20751-9a2f-4f3c-a87c-46f6e0d8d4b5",
   "metadata": {},
   "outputs": [
    {
     "data": {
      "text/html": [
       "<div>\n",
       "<style scoped>\n",
       "    .dataframe tbody tr th:only-of-type {\n",
       "        vertical-align: middle;\n",
       "    }\n",
       "\n",
       "    .dataframe tbody tr th {\n",
       "        vertical-align: top;\n",
       "    }\n",
       "\n",
       "    .dataframe thead th {\n",
       "        text-align: right;\n",
       "    }\n",
       "</style>\n",
       "<table border=\"1\" class=\"dataframe\">\n",
       "  <thead>\n",
       "    <tr style=\"text-align: right;\">\n",
       "      <th></th>\n",
       "      <th>Recencia</th>\n",
       "      <th>Frecuencia</th>\n",
       "      <th>Valor</th>\n",
       "      <th>Cluster</th>\n",
       "    </tr>\n",
       "    <tr>\n",
       "      <th>CustomerID</th>\n",
       "      <th></th>\n",
       "      <th></th>\n",
       "      <th></th>\n",
       "      <th></th>\n",
       "    </tr>\n",
       "  </thead>\n",
       "  <tbody>\n",
       "    <tr>\n",
       "      <th>12346.0</th>\n",
       "      <td>326</td>\n",
       "      <td>2</td>\n",
       "      <td>0.00</td>\n",
       "      <td>0</td>\n",
       "    </tr>\n",
       "    <tr>\n",
       "      <th>12347.0</th>\n",
       "      <td>3</td>\n",
       "      <td>182</td>\n",
       "      <td>4310.00</td>\n",
       "      <td>2</td>\n",
       "    </tr>\n",
       "    <tr>\n",
       "      <th>12348.0</th>\n",
       "      <td>76</td>\n",
       "      <td>31</td>\n",
       "      <td>1797.24</td>\n",
       "      <td>1</td>\n",
       "    </tr>\n",
       "    <tr>\n",
       "      <th>12349.0</th>\n",
       "      <td>19</td>\n",
       "      <td>73</td>\n",
       "      <td>1757.55</td>\n",
       "      <td>1</td>\n",
       "    </tr>\n",
       "    <tr>\n",
       "      <th>12350.0</th>\n",
       "      <td>311</td>\n",
       "      <td>17</td>\n",
       "      <td>334.40</td>\n",
       "      <td>0</td>\n",
       "    </tr>\n",
       "  </tbody>\n",
       "</table>\n",
       "</div>"
      ],
      "text/plain": [
       "            Recencia  Frecuencia    Valor  Cluster\n",
       "CustomerID                                        \n",
       "12346.0          326           2     0.00        0\n",
       "12347.0            3         182  4310.00        2\n",
       "12348.0           76          31  1797.24        1\n",
       "12349.0           19          73  1757.55        1\n",
       "12350.0          311          17   334.40        0"
      ]
     },
     "execution_count": 22,
     "metadata": {},
     "output_type": "execute_result"
    }
   ],
   "source": [
    "customers[\"Cluster\"] = modelo.labels_\n",
    "customers.head()"
   ]
  },
  {
   "cell_type": "markdown",
   "id": "93696173-668f-4766-9e20-a384a58555d2",
   "metadata": {},
   "source": [
    "Podemos resumir la **tabla RFM** en base a conglomerados y calcular la media de cada variable."
   ]
  },
  {
   "cell_type": "code",
   "execution_count": 23,
   "id": "3a3d8a70-5e83-4bc2-9968-1688004c6ca0",
   "metadata": {},
   "outputs": [
    {
     "data": {
      "text/html": [
       "<div>\n",
       "<style scoped>\n",
       "    .dataframe tbody tr th:only-of-type {\n",
       "        vertical-align: middle;\n",
       "    }\n",
       "\n",
       "    .dataframe tbody tr th {\n",
       "        vertical-align: top;\n",
       "    }\n",
       "\n",
       "    .dataframe thead tr th {\n",
       "        text-align: left;\n",
       "    }\n",
       "\n",
       "    .dataframe thead tr:last-of-type th {\n",
       "        text-align: right;\n",
       "    }\n",
       "</style>\n",
       "<table border=\"1\" class=\"dataframe\">\n",
       "  <thead>\n",
       "    <tr>\n",
       "      <th></th>\n",
       "      <th>Recencia</th>\n",
       "      <th>Frecuencia</th>\n",
       "      <th colspan=\"2\" halign=\"left\">Valor</th>\n",
       "    </tr>\n",
       "    <tr>\n",
       "      <th></th>\n",
       "      <th>mean</th>\n",
       "      <th>mean</th>\n",
       "      <th>mean</th>\n",
       "      <th>count</th>\n",
       "    </tr>\n",
       "    <tr>\n",
       "      <th>Cluster</th>\n",
       "      <th></th>\n",
       "      <th></th>\n",
       "      <th></th>\n",
       "      <th></th>\n",
       "    </tr>\n",
       "  </thead>\n",
       "  <tbody>\n",
       "    <tr>\n",
       "      <th>0</th>\n",
       "      <td>185.3</td>\n",
       "      <td>19.2</td>\n",
       "      <td>352.1</td>\n",
       "      <td>1659</td>\n",
       "    </tr>\n",
       "    <tr>\n",
       "      <th>1</th>\n",
       "      <td>42.9</td>\n",
       "      <td>67.5</td>\n",
       "      <td>1008.3</td>\n",
       "      <td>1934</td>\n",
       "    </tr>\n",
       "    <tr>\n",
       "      <th>2</th>\n",
       "      <td>18.5</td>\n",
       "      <td>313.7</td>\n",
       "      <td>7401.7</td>\n",
       "      <td>779</td>\n",
       "    </tr>\n",
       "  </tbody>\n",
       "</table>\n",
       "</div>"
      ],
      "text/plain": [
       "        Recencia Frecuencia   Valor      \n",
       "            mean       mean    mean count\n",
       "Cluster                                  \n",
       "0          185.3       19.2   352.1  1659\n",
       "1           42.9       67.5  1008.3  1934\n",
       "2           18.5      313.7  7401.7   779"
      ]
     },
     "execution_count": 23,
     "metadata": {},
     "output_type": "execute_result"
    }
   ],
   "source": [
    "customers.groupby('Cluster').agg({\n",
    "    'Recencia':'mean',\n",
    "    'Frecuencia':'mean',\n",
    "    'Valor':['mean', 'count']}).round(1)"
   ]
  },
  {
   "cell_type": "markdown",
   "id": "95230792-c99a-4bbf-b352-3f9361809680",
   "metadata": {},
   "source": [
    "**Gráfico Snake**"
   ]
  },
  {
   "cell_type": "code",
   "execution_count": 24,
   "id": "9b91d1bd-098a-4757-a31c-3816b47d51fa",
   "metadata": {},
   "outputs": [
    {
     "data": {
      "text/html": [
       "<div>\n",
       "<style scoped>\n",
       "    .dataframe tbody tr th:only-of-type {\n",
       "        vertical-align: middle;\n",
       "    }\n",
       "\n",
       "    .dataframe tbody tr th {\n",
       "        vertical-align: top;\n",
       "    }\n",
       "\n",
       "    .dataframe thead th {\n",
       "        text-align: right;\n",
       "    }\n",
       "</style>\n",
       "<table border=\"1\" class=\"dataframe\">\n",
       "  <thead>\n",
       "    <tr style=\"text-align: right;\">\n",
       "      <th></th>\n",
       "      <th>Recencia</th>\n",
       "      <th>Frecuencia</th>\n",
       "      <th>Valor</th>\n",
       "      <th>ID</th>\n",
       "      <th>Cluster</th>\n",
       "    </tr>\n",
       "  </thead>\n",
       "  <tbody>\n",
       "    <tr>\n",
       "      <th>0</th>\n",
       "      <td>1.606608</td>\n",
       "      <td>-2.098072</td>\n",
       "      <td>-1.925647</td>\n",
       "      <td>12346.0</td>\n",
       "      <td>0</td>\n",
       "    </tr>\n",
       "    <tr>\n",
       "      <th>1</th>\n",
       "      <td>-1.696240</td>\n",
       "      <td>1.151346</td>\n",
       "      <td>1.330542</td>\n",
       "      <td>12347.0</td>\n",
       "      <td>2</td>\n",
       "    </tr>\n",
       "    <tr>\n",
       "      <th>2</th>\n",
       "      <td>0.317615</td>\n",
       "      <td>-0.224316</td>\n",
       "      <td>0.507038</td>\n",
       "      <td>12348.0</td>\n",
       "      <td>1</td>\n",
       "    </tr>\n",
       "    <tr>\n",
       "      <th>3</th>\n",
       "      <td>-0.669146</td>\n",
       "      <td>0.423978</td>\n",
       "      <td>0.488997</td>\n",
       "      <td>12349.0</td>\n",
       "      <td>1</td>\n",
       "    </tr>\n",
       "    <tr>\n",
       "      <th>4</th>\n",
       "      <td>1.560253</td>\n",
       "      <td>-0.660498</td>\n",
       "      <td>-0.536848</td>\n",
       "      <td>12350.0</td>\n",
       "      <td>0</td>\n",
       "    </tr>\n",
       "  </tbody>\n",
       "</table>\n",
       "</div>"
      ],
      "text/plain": [
       "   Recencia  Frecuencia     Valor       ID  Cluster\n",
       "0  1.606608   -2.098072 -1.925647  12346.0        0\n",
       "1 -1.696240    1.151346  1.330542  12347.0        2\n",
       "2  0.317615   -0.224316  0.507038  12348.0        1\n",
       "3 -0.669146    0.423978  0.488997  12349.0        1\n",
       "4  1.560253   -0.660498 -0.536848  12350.0        0"
      ]
     },
     "execution_count": 24,
     "metadata": {},
     "output_type": "execute_result"
    }
   ],
   "source": [
    "df_normalized = pd.DataFrame(customers_normalized, columns=['Recencia', 'Frecuencia', 'Valor'])\n",
    "df_normalized['ID'] = customers.index\n",
    "df_normalized['Cluster'] = modelo.labels_\n",
    "df_normalized.head()"
   ]
  },
  {
   "cell_type": "code",
   "execution_count": 25,
   "id": "c3a27d2f-8976-4765-b661-76437af4a252",
   "metadata": {},
   "outputs": [
    {
     "data": {
      "text/html": [
       "<div>\n",
       "<style scoped>\n",
       "    .dataframe tbody tr th:only-of-type {\n",
       "        vertical-align: middle;\n",
       "    }\n",
       "\n",
       "    .dataframe tbody tr th {\n",
       "        vertical-align: top;\n",
       "    }\n",
       "\n",
       "    .dataframe thead th {\n",
       "        text-align: right;\n",
       "    }\n",
       "</style>\n",
       "<table border=\"1\" class=\"dataframe\">\n",
       "  <thead>\n",
       "    <tr style=\"text-align: right;\">\n",
       "      <th></th>\n",
       "      <th>ID</th>\n",
       "      <th>Cluster</th>\n",
       "      <th>Atributo</th>\n",
       "      <th>Value</th>\n",
       "    </tr>\n",
       "  </thead>\n",
       "  <tbody>\n",
       "    <tr>\n",
       "      <th>0</th>\n",
       "      <td>12346.0</td>\n",
       "      <td>0</td>\n",
       "      <td>Recencia</td>\n",
       "      <td>1.606608</td>\n",
       "    </tr>\n",
       "    <tr>\n",
       "      <th>1</th>\n",
       "      <td>12347.0</td>\n",
       "      <td>2</td>\n",
       "      <td>Recencia</td>\n",
       "      <td>-1.696240</td>\n",
       "    </tr>\n",
       "    <tr>\n",
       "      <th>2</th>\n",
       "      <td>12348.0</td>\n",
       "      <td>1</td>\n",
       "      <td>Recencia</td>\n",
       "      <td>0.317615</td>\n",
       "    </tr>\n",
       "    <tr>\n",
       "      <th>3</th>\n",
       "      <td>12349.0</td>\n",
       "      <td>1</td>\n",
       "      <td>Recencia</td>\n",
       "      <td>-0.669146</td>\n",
       "    </tr>\n",
       "    <tr>\n",
       "      <th>4</th>\n",
       "      <td>12350.0</td>\n",
       "      <td>0</td>\n",
       "      <td>Recencia</td>\n",
       "      <td>1.560253</td>\n",
       "    </tr>\n",
       "  </tbody>\n",
       "</table>\n",
       "</div>"
      ],
      "text/plain": [
       "        ID  Cluster  Atributo     Value\n",
       "0  12346.0        0  Recencia  1.606608\n",
       "1  12347.0        2  Recencia -1.696240\n",
       "2  12348.0        1  Recencia  0.317615\n",
       "3  12349.0        1  Recencia -0.669146\n",
       "4  12350.0        0  Recencia  1.560253"
      ]
     },
     "execution_count": 25,
     "metadata": {},
     "output_type": "execute_result"
    }
   ],
   "source": [
    "df_nor_melt = pd.melt(df_normalized.reset_index(),\n",
    "                      id_vars=['ID', 'Cluster'],\n",
    "                      value_vars=['Recencia','Frecuencia','Valor'],\n",
    "                      var_name='Atributo',\n",
    "                      value_name='Value')\n",
    "df_nor_melt.head()"
   ]
  },
  {
   "cell_type": "markdown",
   "id": "81aca97a-3f1a-4853-87d0-b4394c5ca894",
   "metadata": {},
   "source": [
    "Podemos analizar los segmentos usando el diagrama de serpiente. Requiere el conjunto de datos normalizado y también las etiquetas de clúster. Al usar este gráfico, podemos tener una buena visualización de los datos sobre cómo el grupo difiere entre sí."
   ]
  },
  {
   "cell_type": "code",
   "execution_count": 29,
   "id": "2354abdc-1cd8-425a-83d8-f61508b63ce1",
   "metadata": {},
   "outputs": [
    {
     "data": {
      "image/png": "[encoded data removed]",
      "text/plain": [
       "<Figure size 432x288 with 1 Axes>"
      ]
     },
     "metadata": {
      "needs_background": "light"
     },
     "output_type": "display_data"
    }
   ],
   "source": [
    "sns.lineplot('Atributo', 'Value', hue='Cluster', data=df_nor_melt, style=\"Cluster\", markers=True,palette=\"bright\");"
   ]
  },
  {
   "cell_type": "markdown",
   "id": "e3ae0464-a2c1-4d7a-886d-e0b9045a4d15",
   "metadata": {},
   "source": [
    "Al usar esta gráfica, sabemos cómo difiere cada segmento.\n",
    "\n",
    "- Inferimos que el **clúster 0** compran el producto recientemente, con menos frecuencia y pagando menores valores que los demás clusters. Por lo tanto, podría ser el clúster de un cliente fiel.\n",
    "\n",
    "- Entonces, el **clúster 1** compra con una moderada frecuencia, con menor recencia que el cluster 0 y con valores moderados. Por lo tanto, podría ser el clúster de nuevos clientes.\n",
    "\n",
    "- Finalmente, el **clúster 2** compra con grandes valores y frecuencias, pero no recientemente. Por lo tanto, podría ser el grupo de clientes agitados."
   ]
  },
  {
   "cell_type": "markdown",
   "id": "9fa94e99-21cc-4b45-b6cb-d96deb54545e",
   "metadata": {},
   "source": [
    "**Conclusión**\n",
    "\n",
    "La segmentación de clientes es realmente necesaria para saber qué características existen en cada cliente.- "
   ]
  }
 ],
 "metadata": {
  "kernelspec": {
   "display_name": "Python 3.9.7 ('base')",
   "language": "python",
   "name": "python3"
  },
  "language_info": {
   "codemirror_mode": {
    "name": "ipython",
    "version": 3
   },
   "file_extension": ".py",
   "mimetype": "text/x-python",
   "name": "python",
   "nbconvert_exporter": "python",
   "pygments_lexer": "ipython3",
   "version": "3.9.7"
  },
  "vscode": {
   "interpreter": {
    "hash": "6e3f089e5f8edef53c9e6802fc7761f3d0aca790d80dcbea6d1d72e29d7dc734"
   }
  }
 },
 "nbformat": 4,
 "nbformat_minor": 5
}
